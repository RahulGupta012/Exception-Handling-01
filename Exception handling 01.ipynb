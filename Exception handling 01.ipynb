{
 "cells": [
  {
   "cell_type": "markdown",
   "metadata": {},
   "source": [
    "                                     ASSIGNMENT: EXCEPTION HANDLING 01"
   ]
  },
  {
   "cell_type": "markdown",
   "metadata": {},
   "source": [
    "Q1. What is an Exception in python? Write the difference between Exceptions and Syntax errors."
   ]
  },
  {
   "cell_type": "markdown",
   "metadata": {},
   "source": [
    "Exception is noting but an another type of error.As there are two types of error in python first one is 'syntax error' and second is 'exceptions'. The syntax errors are from our side, when we forget or missing or mistaken some indentation or sytax to putting at their proper place, the system immedetly show the error to us. In the case of exception the errors are from the python's side, that there are some values or data which can never be solved. like to divide any number from zero always giving a undefined value in mathamtics, so that in python , when we run this opration it gives 'ZeroDivisionError'...etc."
   ]
  },
  {
   "cell_type": "code",
   "execution_count": 1,
   "metadata": {},
   "outputs": [
    {
     "ename": "ZeroDivisionError",
     "evalue": "division by zero",
     "output_type": "error",
     "traceback": [
      "\u001b[1;31m---------------------------------------------------------------------------\u001b[0m",
      "\u001b[1;31mZeroDivisionError\u001b[0m                         Traceback (most recent call last)",
      "Cell \u001b[1;32mIn[1], line 2\u001b[0m\n\u001b[0;32m      1\u001b[0m \u001b[39m#example of Exception\u001b[39;00m\n\u001b[1;32m----> 2\u001b[0m a\u001b[39m=\u001b[39m\u001b[39m45\u001b[39;49m\u001b[39m/\u001b[39;49m\u001b[39m0\u001b[39;49m\n",
      "\u001b[1;31mZeroDivisionError\u001b[0m: division by zero"
     ]
    }
   ],
   "source": [
    "#example of Exception\n",
    "a=45/0"
   ]
  },
  {
   "cell_type": "code",
   "execution_count": 3,
   "metadata": {},
   "outputs": [
    {
     "ename": "SyntaxError",
     "evalue": "expected ':' (226035428.py, line 2)",
     "output_type": "error",
     "traceback": [
      "\u001b[1;36m  Cell \u001b[1;32mIn[3], line 2\u001b[1;36m\u001b[0m\n\u001b[1;33m    class error\u001b[0m\n\u001b[1;37m               ^\u001b[0m\n\u001b[1;31mSyntaxError\u001b[0m\u001b[1;31m:\u001b[0m expected ':'\n"
     ]
    }
   ],
   "source": [
    "#example of syntax error\n",
    "class error\n",
    "#while creating a class, it is neccessary to put the : at the and of the class name, \n",
    "# that's why system showing us SyntaxError: expected ':'"
   ]
  },
  {
   "cell_type": "markdown",
   "metadata": {},
   "source": [
    "Q2. What happens when an exception is not handled? Explain with an example."
   ]
  },
  {
   "cell_type": "markdown",
   "metadata": {},
   "source": [
    "It is very important to handle the exception because in python the code executed in a sequantial way. and if there will a error in the path while execution, the kernal is stuck there and further exicution of the code will also stopped. \n",
    "\n",
    "In the above example, we have tried to add a string with the int type value, so is shows TypeError that string and int can not be concatenate toghetr. That why print fucntion can not be executed. "
   ]
  },
  {
   "cell_type": "code",
   "execution_count": 10,
   "metadata": {},
   "outputs": [
    {
     "ename": "TypeError",
     "evalue": "unsupported operand type(s) for +: 'int' and 'str'",
     "output_type": "error",
     "traceback": [
      "\u001b[1;31m---------------------------------------------------------------------------\u001b[0m",
      "\u001b[1;31mTypeError\u001b[0m                                 Traceback (most recent call last)",
      "Cell \u001b[1;32mIn[10], line 1\u001b[0m\n\u001b[1;32m----> 1\u001b[0m Basket\u001b[39m=\u001b[39m \u001b[39m100\u001b[39;49m \u001b[39m+\u001b[39;49m \u001b[39m'\u001b[39;49m\u001b[39mapple\u001b[39;49m\u001b[39m'\u001b[39;49m\n\u001b[0;32m      2\u001b[0m \u001b[39mprint\u001b[39m(\u001b[39m\"\u001b[39m\u001b[39mtotal apples\u001b[39m\u001b[39m\"\u001b[39m)\n",
      "\u001b[1;31mTypeError\u001b[0m: unsupported operand type(s) for +: 'int' and 'str'"
     ]
    }
   ],
   "source": [
    "Basket= 100 + 'apple'\n",
    "print(\"total apples\")"
   ]
  },
  {
   "cell_type": "markdown",
   "metadata": {},
   "source": [
    "Q3. Which Python statements are used to catch and handle exceptions? Explain with an example."
   ]
  },
  {
   "cell_type": "markdown",
   "metadata": {},
   "source": [
    "Try and except statements are used to catch and handle exceptions in Python."
   ]
  },
  {
   "cell_type": "code",
   "execution_count": 3,
   "metadata": {},
   "outputs": [
    {
     "name": "stdout",
     "output_type": "stream",
     "text": [
      "division by zero\n"
     ]
    }
   ],
   "source": [
    "try:\n",
    "   divide= 12/0\n",
    "except Exception as e:  #Exception is a module in python,we use this in case on unidentified error.\n",
    "   print (e)\n"
   ]
  },
  {
   "cell_type": "markdown",
   "metadata": {},
   "source": [
    "Q4. Explain with an example:\n",
    "\n",
    "1.try and else\n",
    "\n",
    "2.finally\n",
    "\n",
    "3.raise "
   ]
  },
  {
   "cell_type": "code",
   "execution_count": 8,
   "metadata": {},
   "outputs": [],
   "source": [
    "                                           #try and else exception handling\n",
    "\n",
    "\n",
    "#making after try and except blog we creat a another block of else, which only execute if system didn't find any error in the code.\n",
    "\n",
    "def divide(x,y):\n",
    "\n",
    "    try:\n",
    "         result=x/y\n",
    "\n",
    "    except ZeroDivisionError:\n",
    "        print('there is a zero devison error')\n",
    "            \n",
    "    else:\n",
    "\n",
    "        print (\"yes,number is divided and answer is:\", result)\n"
   ]
  },
  {
   "cell_type": "code",
   "execution_count": 9,
   "metadata": {},
   "outputs": [
    {
     "name": "stdout",
     "output_type": "stream",
     "text": [
      "yes,number is divided and answer is: 10.0\n",
      "there is a zero devison error\n"
     ]
    }
   ],
   "source": [
    "divide(120,12)\n",
    "divide(12,0)"
   ]
  },
  {
   "cell_type": "code",
   "execution_count": 14,
   "metadata": {},
   "outputs": [],
   "source": [
    "                                       #finally  exception handling\n",
    "\n",
    "\"\"\"we add a finally statement in above code to get the finally exception handling.in the case of finally exception, \n",
    "execution of the block is neccessary.\"\"\"\n",
    "\n",
    "def divide(x,y):\n",
    "\n",
    "    try:\n",
    "         result=x/y\n",
    "\n",
    "    except ZeroDivisionError:\n",
    "        print('there is a zero devison error')\n",
    "            \n",
    "    else:\n",
    "\n",
    "        print (\"yes,number is divided and answer is:\", result)\n",
    "\n",
    "    finally:\n",
    "        print(\"this is always executed\")\n",
    "\n"
   ]
  },
  {
   "cell_type": "code",
   "execution_count": 12,
   "metadata": {},
   "outputs": [
    {
     "name": "stdout",
     "output_type": "stream",
     "text": [
      "yes,number is divided and answer is: 60.0\n",
      "this is always executed\n",
      "there is a zero devison error\n",
      "this is always executed\n"
     ]
    }
   ],
   "source": [
    "divide(120,2)\n",
    "divide(12,0)"
   ]
  },
  {
   "cell_type": "code",
   "execution_count": 22,
   "metadata": {},
   "outputs": [],
   "source": [
    "                                           #raise exception handling\n",
    "\n",
    "\"\"\"In the python we can also creat self-defined exceptions for our specific code. let take a example, that we make a code for \n",
    "taking the input of age but we want to avoid the negative numbers while getting the input, as we know that age never be \n",
    "negative. So we can set a limit for age input and if the user gives any negatavie number for the age, sysytem will simply shows\n",
    "a error massage to him\"\"\"\n",
    "\n",
    "def age(x):\n",
    "    \n",
    "  if x<0:\n",
    "   \n",
    "   raise Exception(\"age can never be negative\")\n",
    "  \n",
    "  #we have creatiing the error..massage shows in our console \"exception: age can never be negative\". further we see how we handle it.\n"
   ]
  },
  {
   "cell_type": "code",
   "execution_count": 23,
   "metadata": {},
   "outputs": [
    {
     "ename": "Exception",
     "evalue": "age can never be negative",
     "output_type": "error",
     "traceback": [
      "\u001b[1;31m---------------------------------------------------------------------------\u001b[0m",
      "\u001b[1;31mException\u001b[0m                                 Traceback (most recent call last)",
      "Cell \u001b[1;32mIn[23], line 1\u001b[0m\n\u001b[1;32m----> 1\u001b[0m age(\u001b[39m-\u001b[39;49m\u001b[39m12\u001b[39;49m)\n",
      "Cell \u001b[1;32mIn[22], line 12\u001b[0m, in \u001b[0;36mage\u001b[1;34m(x)\u001b[0m\n\u001b[0;32m      8\u001b[0m \u001b[39mdef\u001b[39;00m \u001b[39mage\u001b[39m(x):\n\u001b[0;32m     10\u001b[0m   \u001b[39mif\u001b[39;00m x\u001b[39m<\u001b[39m\u001b[39m0\u001b[39m:\n\u001b[1;32m---> 12\u001b[0m    \u001b[39mraise\u001b[39;00m \u001b[39mException\u001b[39;00m(\u001b[39m\"\u001b[39m\u001b[39mage can never be negative\u001b[39m\u001b[39m\"\u001b[39m)\n",
      "\u001b[1;31mException\u001b[0m: age can never be negative"
     ]
    }
   ],
   "source": [
    "age(-12)"
   ]
  },
  {
   "cell_type": "code",
   "execution_count": 25,
   "metadata": {},
   "outputs": [
    {
     "name": "stdout",
     "output_type": "stream",
     "text": [
      "Age can never be Negative\n"
     ]
    }
   ],
   "source": [
    "#now we are going to handle the above error.\n",
    "\n",
    "try:\n",
    "  \n",
    "  age(-12)\n",
    "  \n",
    "except Exception:\n",
    "  print(\"Age can never be Negative\")"
   ]
  },
  {
   "cell_type": "markdown",
   "metadata": {},
   "source": [
    "Q5. What are Custom Exceptions in python? Why do we need Custom Exceptions? Explain with an example."
   ]
  },
  {
   "cell_type": "markdown",
   "metadata": {},
   "source": [
    "Q6. Create a custom exception class. Use this class to handle an exception."
   ]
  },
  {
   "cell_type": "code",
   "execution_count": 33,
   "metadata": {},
   "outputs": [],
   "source": [
    "\"\"\"Custom exceptions are basically user-defined exceptions as we discuss above. For such type of exceptions we use \n",
    "raise function\"\"\"\n",
    "\"\"\"let's make a program which only accept the string value and does not accept the int values. if we give them any int value the \n",
    "system shows the error.\"\"\"\n",
    "\n"
   ]
  },
  {
   "cell_type": "code",
   "execution_count": 1,
   "metadata": {},
   "outputs": [],
   "source": [
    "class eceptions(Exception):\n",
    "\n",
    "    def __init__(self,msg):\n",
    "        self.msg=msg"
   ]
  },
  {
   "cell_type": "code",
   "execution_count": 2,
   "metadata": {},
   "outputs": [],
   "source": [
    "def exceptions(name):\n",
    "    if type(name)== int:\n",
    "        raise exceptions(\"value is not suitable\")\n",
    "    else:\n",
    "        raise exceptions(\"you have sucsessfully entered your name\")"
   ]
  },
  {
   "cell_type": "code",
   "execution_count": 7,
   "metadata": {},
   "outputs": [],
   "source": [
    "try:\n",
    "    name= (str(input(\"enter the student name\")))\n",
    "    eceptions(name) \n",
    "except eceptions as e:\n",
    "\n",
    "    print (e)"
   ]
  },
  {
   "cell_type": "markdown",
   "metadata": {},
   "source": []
  }
 ],
 "metadata": {
  "kernelspec": {
   "display_name": "Python 3",
   "language": "python",
   "name": "python3"
  },
  "language_info": {
   "codemirror_mode": {
    "name": "ipython",
    "version": 3
   },
   "file_extension": ".py",
   "mimetype": "text/x-python",
   "name": "python",
   "nbconvert_exporter": "python",
   "pygments_lexer": "ipython3",
   "version": "3.11.4"
  },
  "orig_nbformat": 4
 },
 "nbformat": 4,
 "nbformat_minor": 2
}
